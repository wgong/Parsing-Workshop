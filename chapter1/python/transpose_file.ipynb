{
 "cells": [
  {
   "cell_type": "code",
   "execution_count": null,
   "metadata": {},
   "outputs": [],
   "source": [
    "import  sys\n",
    "\n",
    "if len(sys.argv) < 2:\n",
    "    print(\"input file missing\")\n",
    "    exit(1)\n",
    "    \n",
    "file_in = sys.argv[1]"
   ]
  },
  {
   "cell_type": "code",
   "execution_count": 1,
   "metadata": {},
   "outputs": [
    {
     "name": "stdout",
     "output_type": "stream",
     "text": [
      "name alice ryan\n",
      "age 21 30\n"
     ]
    }
   ],
   "source": [
    "file_in = \"names.txt\"\n",
    "names = []\n",
    "with open(file_in) as f:\n",
    "    for line in iter(f.readline,''):\n",
    "        names.append(line.split())\n",
    "\n",
    "nrows, ncols = len(names), len(names[0])\n",
    "# transpose\n",
    "for ic in range(ncols):\n",
    "    cols = [names[ir][ic] for ir in range(nrows)]\n",
    "    print(\" \".join(cols))"
   ]
  },
  {
   "cell_type": "code",
   "execution_count": null,
   "metadata": {},
   "outputs": [],
   "source": []
  }
 ],
 "metadata": {
  "kernelspec": {
   "display_name": "Python 3",
   "language": "python",
   "name": "python3"
  },
  "language_info": {
   "codemirror_mode": {
    "name": "ipython",
    "version": 3
   },
   "file_extension": ".py",
   "mimetype": "text/x-python",
   "name": "python",
   "nbconvert_exporter": "python",
   "pygments_lexer": "ipython3",
   "version": "3.6.5"
  }
 },
 "nbformat": 4,
 "nbformat_minor": 2
}
