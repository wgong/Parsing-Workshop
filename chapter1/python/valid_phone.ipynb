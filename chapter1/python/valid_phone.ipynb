{
 "cells": [
  {
   "cell_type": "code",
   "execution_count": null,
   "metadata": {},
   "outputs": [],
   "source": [
    "import sys\n",
    "\n",
    "if len(sys.argv) < 2:\n",
    "    print(\"input file missing\")\n",
    "    exit(1)\n",
    "    \n",
    "file_in = sys.argv[1]"
   ]
  },
  {
   "cell_type": "code",
   "execution_count": 14,
   "metadata": {},
   "outputs": [
    {
     "name": "stdout",
     "output_type": "stream",
     "text": [
      "987-123-4567\n",
      "(123) 456-7890\n"
     ]
    }
   ],
   "source": [
    "def valid_phone(phone_number):\n",
    "    import re\n",
    "    pat_str = r\"(\\d{3}-\\d{3}-\\d{4})|(\\(\\d{3}\\) \\d{3}-\\d{4})\"\n",
    "    match_grp = re.match(pat_str, phone_number)\n",
    "    if match_grp:\n",
    "        return True\n",
    "    else:\n",
    "        return False\n",
    "\n",
    "file_in = \"phones.txt\"\n",
    "with open(file_in) as f:\n",
    "    for line in iter(f.readline,''):\n",
    "        line = line.strip()\n",
    "        if valid_phone(line):\n",
    "            print(line)"
   ]
  },
  {
   "cell_type": "code",
   "execution_count": null,
   "metadata": {},
   "outputs": [],
   "source": []
  }
 ],
 "metadata": {
  "kernelspec": {
   "display_name": "Python 3",
   "language": "python",
   "name": "python3"
  },
  "language_info": {
   "codemirror_mode": {
    "name": "ipython",
    "version": 3
   },
   "file_extension": ".py",
   "mimetype": "text/x-python",
   "name": "python",
   "nbconvert_exporter": "python",
   "pygments_lexer": "ipython3",
   "version": "3.6.5"
  }
 },
 "nbformat": 4,
 "nbformat_minor": 2
}
