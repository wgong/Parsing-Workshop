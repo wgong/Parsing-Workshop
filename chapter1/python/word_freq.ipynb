{
 "cells": [
  {
   "cell_type": "code",
   "execution_count": null,
   "metadata": {},
   "outputs": [],
   "source": [
    "import  sys\n",
    "\n",
    "if len(sys.argv) < 2:\n",
    "    print(\"input file missing\")\n",
    "    exit(1)\n",
    "    \n",
    "file_in = sys.argv[1]"
   ]
  },
  {
   "cell_type": "code",
   "execution_count": 11,
   "metadata": {},
   "outputs": [
    {
     "name": "stdout",
     "output_type": "stream",
     "text": [
      "the 4\n",
      "is 3\n",
      "sunny 2\n",
      "day 1\n"
     ]
    }
   ],
   "source": [
    "file_in = \"words.txt\"\n",
    "word_dict = {}\n",
    "with open(file_in) as f:\n",
    "    for line in iter(f.readline,''):\n",
    "        for w in line.split():\n",
    "            word_dict[w] = word_dict.get(w,0) + 1\n",
    "\n",
    "# sort by value\n",
    "sorted_word_dict = sorted(word_dict.items(), key=lambda kv: -kv[1])\n",
    "\n",
    "for k,v in sorted_word_dict:\n",
    "    print(k,v)"
   ]
  },
  {
   "cell_type": "code",
   "execution_count": null,
   "metadata": {},
   "outputs": [],
   "source": []
  }
 ],
 "metadata": {
  "kernelspec": {
   "display_name": "Python 3",
   "language": "python",
   "name": "python3"
  },
  "language_info": {
   "codemirror_mode": {
    "name": "ipython",
    "version": 3
   },
   "file_extension": ".py",
   "mimetype": "text/x-python",
   "name": "python",
   "nbconvert_exporter": "python",
   "pygments_lexer": "ipython3",
   "version": "3.6.5"
  }
 },
 "nbformat": 4,
 "nbformat_minor": 2
}
